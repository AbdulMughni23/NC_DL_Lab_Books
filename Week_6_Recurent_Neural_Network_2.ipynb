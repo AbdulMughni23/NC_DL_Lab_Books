{
 "cells": [
  {
   "cell_type": "markdown",
   "metadata": {
    "id": "eAXZw-BOklA-"
   },
   "source": [
    "\n",
    "\n",
    "# RNN for Time Series\n",
    "\n",
    "RNNs are used for sequence modeling. This tutorial will look at a time series data to be modeled and predicted using RNNs. "
   ]
  },
  {
   "cell_type": "code",
   "execution_count": 1,
   "metadata": {
    "id": "WO9ntPgRklBA"
   },
   "outputs": [
    {
     "name": "stdout",
     "output_type": "stream",
     "text": [
      "WARNING:tensorflow:From C:\\ProgramData\\anaconda3\\lib\\site-packages\\keras\\src\\losses.py:2976: The name tf.losses.sparse_softmax_cross_entropy is deprecated. Please use tf.compat.v1.losses.sparse_softmax_cross_entropy instead.\n",
      "\n"
     ]
    }
   ],
   "source": [
    "#\n",
    "# Import Libraries\n",
    "import tensorflow as tf\n",
    "import numpy as np\n",
    "import pandas as pd\n",
    "from sklearn.model_selection import train_test_split\n",
    "#"
   ]
  },
  {
   "cell_type": "markdown",
   "metadata": {
    "id": "T6HAjQBuklBA"
   },
   "source": [
    "## Data\n",
    "\n",
    "We will use retail data for time-series modeling. \n",
    "\n",
    "Link to the dataset:\n",
    " https://fred.stlouisfed.org/series/MRTSSM448USN\n",
    "\n",
    "Information about the Advance Monthly Retail Sales Survey can be found on the Census website at:\n",
    "https://www.census.gov/retail/marts/about_the_surveys.html\n",
    "\n",
    "Release: Advance Monthly Sales for Retail and Food Services  \n",
    "Units:  Millions of Dollars, Not Seasonally Adjusted\n",
    "Frequency:  Monthly\n",
    "\n",
    "Suggested Citation:\n",
    "U.S. Census Bureau, Advance Retail Sales: Clothing and Clothing Accessory Stores [RSCCASN], retrieved from FRED, Federal Reserve Bank of St. Louis; https://fred.stlouisfed.org/series/RSCCASN, November 16, 2019.\n",
    "\n",
    "https://fred.stlouisfed.org/series/RSCCASN"
   ]
  },
  {
   "cell_type": "markdown",
   "metadata": {
    "id": "j0afncMwmJiA"
   },
   "source": [
    "### Read data first -  Use index_col = 'DATE' and 'parse_dates = True' as a parameter."
   ]
  },
  {
   "cell_type": "code",
   "execution_count": 2,
   "metadata": {
    "id": "PWy0RE0iklBB"
   },
   "outputs": [
    {
     "data": {
      "text/html": [
       "<div>\n",
       "<style scoped>\n",
       "    .dataframe tbody tr th:only-of-type {\n",
       "        vertical-align: middle;\n",
       "    }\n",
       "\n",
       "    .dataframe tbody tr th {\n",
       "        vertical-align: top;\n",
       "    }\n",
       "\n",
       "    .dataframe thead th {\n",
       "        text-align: right;\n",
       "    }\n",
       "</style>\n",
       "<table border=\"1\" class=\"dataframe\">\n",
       "  <thead>\n",
       "    <tr style=\"text-align: right;\">\n",
       "      <th></th>\n",
       "      <th>MRTSSM448USN</th>\n",
       "    </tr>\n",
       "    <tr>\n",
       "      <th>DATE</th>\n",
       "      <th></th>\n",
       "    </tr>\n",
       "  </thead>\n",
       "  <tbody>\n",
       "    <tr>\n",
       "      <th>1992-01-01</th>\n",
       "      <td>6938.0</td>\n",
       "    </tr>\n",
       "    <tr>\n",
       "      <th>1992-02-01</th>\n",
       "      <td>7524.0</td>\n",
       "    </tr>\n",
       "    <tr>\n",
       "      <th>1992-03-01</th>\n",
       "      <td>8475.0</td>\n",
       "    </tr>\n",
       "    <tr>\n",
       "      <th>1992-04-01</th>\n",
       "      <td>9401.0</td>\n",
       "    </tr>\n",
       "    <tr>\n",
       "      <th>1992-05-01</th>\n",
       "      <td>9558.0</td>\n",
       "    </tr>\n",
       "  </tbody>\n",
       "</table>\n",
       "</div>"
      ],
      "text/plain": [
       "            MRTSSM448USN\n",
       "DATE                    \n",
       "1992-01-01        6938.0\n",
       "1992-02-01        7524.0\n",
       "1992-03-01        8475.0\n",
       "1992-04-01        9401.0\n",
       "1992-05-01        9558.0"
      ]
     },
     "execution_count": 2,
     "metadata": {},
     "output_type": "execute_result"
    }
   ],
   "source": [
    "# Your code to read data\n",
    "df = pd.read_csv('./MRTSSM448USN.csv', index_col = 'DATE', parse_dates=True)\n",
    "\n",
    "# Print first few rows of data\n",
    "df.head()"
   ]
  },
  {
   "cell_type": "markdown",
   "metadata": {
    "id": "20ILbN0TmrOJ"
   },
   "source": [
    "Does the sales column has any name?\n",
    "\n",
    "If no, set the name of the colum as 'Sales'."
   ]
  },
  {
   "cell_type": "code",
   "execution_count": 3,
   "metadata": {
    "id": "PZIxSODNklBC"
   },
   "outputs": [
    {
     "data": {
      "text/plain": [
       "Index(['MRTSSM448USN'], dtype='object')"
      ]
     },
     "execution_count": 3,
     "metadata": {},
     "output_type": "execute_result"
    }
   ],
   "source": [
    "# Set name of column as 'Sales'. Use - df.columns \n",
    "df.columns"
   ]
  },
  {
   "cell_type": "code",
   "execution_count": 4,
   "metadata": {},
   "outputs": [
    {
     "data": {
      "text/html": [
       "<div>\n",
       "<style scoped>\n",
       "    .dataframe tbody tr th:only-of-type {\n",
       "        vertical-align: middle;\n",
       "    }\n",
       "\n",
       "    .dataframe tbody tr th {\n",
       "        vertical-align: top;\n",
       "    }\n",
       "\n",
       "    .dataframe thead th {\n",
       "        text-align: right;\n",
       "    }\n",
       "</style>\n",
       "<table border=\"1\" class=\"dataframe\">\n",
       "  <thead>\n",
       "    <tr style=\"text-align: right;\">\n",
       "      <th></th>\n",
       "      <th>Sales</th>\n",
       "    </tr>\n",
       "    <tr>\n",
       "      <th>DATE</th>\n",
       "      <th></th>\n",
       "    </tr>\n",
       "  </thead>\n",
       "  <tbody>\n",
       "    <tr>\n",
       "      <th>1992-01-01</th>\n",
       "      <td>6938.0</td>\n",
       "    </tr>\n",
       "    <tr>\n",
       "      <th>1992-02-01</th>\n",
       "      <td>7524.0</td>\n",
       "    </tr>\n",
       "    <tr>\n",
       "      <th>1992-03-01</th>\n",
       "      <td>8475.0</td>\n",
       "    </tr>\n",
       "    <tr>\n",
       "      <th>1992-04-01</th>\n",
       "      <td>9401.0</td>\n",
       "    </tr>\n",
       "    <tr>\n",
       "      <th>1992-05-01</th>\n",
       "      <td>9558.0</td>\n",
       "    </tr>\n",
       "  </tbody>\n",
       "</table>\n",
       "</div>"
      ],
      "text/plain": [
       "             Sales\n",
       "DATE              \n",
       "1992-01-01  6938.0\n",
       "1992-02-01  7524.0\n",
       "1992-03-01  8475.0\n",
       "1992-04-01  9401.0\n",
       "1992-05-01  9558.0"
      ]
     },
     "execution_count": 4,
     "metadata": {},
     "output_type": "execute_result"
    }
   ],
   "source": [
    "df.rename(columns={'MRTSSM448USN': 'Sales'}, inplace=True)\n",
    "df.head()"
   ]
  },
  {
   "cell_type": "markdown",
   "metadata": {
    "id": "mcaD8pEsssHE"
   },
   "source": [
    "Plot your data - Year vs Sales"
   ]
  },
  {
   "cell_type": "code",
   "execution_count": 5,
   "metadata": {
    "id": "E_SQ6sB0klBC"
   },
   "outputs": [
    {
     "data": {
      "image/png": "[encoded data removed]",
      "text/plain": [
       "<Figure size 1500x600 with 1 Axes>"
      ]
     },
     "metadata": {},
     "output_type": "display_data"
    }
   ],
   "source": [
    "import matplotlib.pyplot as plt\n",
    "# Your code to plot Year vs Sales. Use either matplot library of pandas dataframe.\n",
    "plt.figure(figsize=(15, 6))\n",
    "plt.plot(df)\n",
    "plt.show()"
   ]
  },
  {
   "cell_type": "markdown",
   "metadata": {
    "id": "TYHObQ6lklBC"
   },
   "source": [
    "### Next we will do Train Test Split. \n",
    "\n",
    "We will use last 1.5 year (18 month) samples for testing. Rest is for training."
   ]
  },
  {
   "cell_type": "code",
   "execution_count": 40,
   "metadata": {
    "id": "PljjHLVKklBD"
   },
   "outputs": [
    {
     "data": {
      "text/plain": [
       "(18, 366)"
      ]
     },
     "execution_count": 40,
     "metadata": {},
     "output_type": "execute_result"
    }
   ],
   "source": [
    "# Assign variable test size = 18\n",
    "# Store length of data in variable length.\n",
    "# store training size in varialable train_size (Remember training size = total size - test_size)\n",
    "test_size = 18\n",
    "\n",
    "training_size = len(df)- test_size\n",
    "test_size, training_size"
   ]
  },
  {
   "cell_type": "markdown",
   "metadata": {
    "id": "AlCkBwGOvV5z"
   },
   "source": [
    "Now, we will find the indexes of the test data. Remember, these are the last 18 indexes in the pandas dataframe."
   ]
  },
  {
   "cell_type": "code",
   "execution_count": 6,
   "metadata": {
    "id": "Ty_G_Ky8klBD"
   },
   "outputs": [],
   "source": [
    "#Assign the start of test index in data frame to variable test_index.  Remember, it is equal to the length of dataframe - test size\n",
    "test_index= 336"
   ]
  },
  {
   "cell_type": "markdown",
   "metadata": {
    "id": "Zzf2MiW0wcIP"
   },
   "source": [
    "Next, we will separate train and test datasets."
   ]
  },
  {
   "cell_type": "code",
   "execution_count": 7,
   "metadata": {
    "id": "HyuEFcxoklBD"
   },
   "outputs": [],
   "source": [
    "# Store all data from 0 to test_index in variable train. Hint - Use df.iloc.\n",
    "train = df.iloc[:336]\n",
    "# Store everthing from test_index to the last sample in test variable. Hint - Use df.iloc.\n",
    "test = df.iloc[336:]"
   ]
  },
  {
   "cell_type": "code",
   "execution_count": 8,
   "metadata": {
    "id": "a9-JOcqTklBE"
   },
   "outputs": [
    {
     "name": "stdout",
     "output_type": "stream",
     "text": [
      "(336, 1)\n",
      "(48, 1)\n",
      "             Sales\n",
      "DATE              \n",
      "1992-01-01  6938.0\n",
      "1992-02-01  7524.0\n",
      "1992-03-01  8475.0\n",
      "1992-04-01  9401.0\n",
      "1992-05-01  9558.0\n",
      "              Sales\n",
      "DATE               \n",
      "2020-01-01  16738.0\n",
      "2020-02-01  19106.0\n",
      "2020-03-01  10926.0\n",
      "2020-04-01   2752.0\n",
      "2020-05-01   8644.0\n"
     ]
    }
   ],
   "source": [
    "# Print the size of the train data\n",
    "print(train.shape)\n",
    "# Print the size of the test data\n",
    "print(test.shape)\n",
    "# Print the train data\n",
    "print(train.head())\n",
    "# Print the test data\n",
    "print(test.head())\n"
   ]
  },
  {
   "cell_type": "markdown",
   "metadata": {
    "id": "YnHYQqjTklBE"
   },
   "source": [
    "### In Neural Networks, we need to Scale Data between 0-1"
   ]
  },
  {
   "cell_type": "code",
   "execution_count": 9,
   "metadata": {
    "id": "TlhbNUf6klBE"
   },
   "outputs": [],
   "source": [
    "from sklearn.preprocessing import MinMaxScaler"
   ]
  },
  {
   "cell_type": "code",
   "execution_count": 10,
   "metadata": {
    "id": "-yAHwjS3klBE"
   },
   "outputs": [],
   "source": [
    "scaler = MinMaxScaler()\n",
    "scaler.fit(train)\n",
    "scaled_train = scaler.transform(train)\n",
    "scaled_test = scaler.transform(test)"
   ]
  },
  {
   "cell_type": "code",
   "execution_count": 11,
   "metadata": {
    "id": "Hr7DoWM2klBE"
   },
   "outputs": [
    {
     "data": {
      "text/plain": [
       "array([[0.        ],\n",
       "       [0.02076394],\n",
       "       [0.05446106],\n",
       "       [0.08727234],\n",
       "       [0.09283538],\n",
       "       [0.07951244],\n",
       "       [0.0767132 ],\n",
       "       [0.12667423],\n",
       "       [0.09336688],\n",
       "       [0.11749699],\n",
       "       [0.1505563 ],\n",
       "       [0.40595989],\n",
       "       [0.01998441],\n",
       "       [0.02076394],\n",
       "       [0.06477216],\n",
       "       [0.10378428],\n",
       "       [0.11072922],\n",
       "       [0.09556374],\n",
       "       [0.10119765],\n",
       "       [0.13074906],\n",
       "       [0.10895755],\n",
       "       [0.12075686],\n",
       "       [0.17085961],\n",
       "       [0.4221175 ],\n",
       "       [0.01211821],\n",
       "       [0.03415775],\n",
       "       [0.10569768],\n",
       "       [0.10385515],\n",
       "       [0.10881582],\n",
       "       [0.10470555],\n",
       "       [0.09910708],\n",
       "       [0.1494933 ],\n",
       "       [0.11618595],\n",
       "       [0.13436326],\n",
       "       [0.19190702],\n",
       "       [0.46339735],\n",
       "       [0.02055134],\n",
       "       [0.03624832],\n",
       "       [0.10194175],\n",
       "       [0.11444972],\n",
       "       [0.13046559],\n",
       "       [0.11916236],\n",
       "       [0.10084331],\n",
       "       [0.15328467],\n",
       "       [0.1336546 ],\n",
       "       [0.12405216],\n",
       "       [0.20597406],\n",
       "       [0.46290128],\n",
       "       [0.02643328],\n",
       "       [0.07274467],\n",
       "       [0.12086316],\n",
       "       [0.12869393],\n",
       "       [0.15828077],\n",
       "       [0.12812699],\n",
       "       [0.11565445],\n",
       "       [0.18411169],\n",
       "       [0.13057189],\n",
       "       [0.1527886 ],\n",
       "       [0.2103678 ],\n",
       "       [0.46084615],\n",
       "       [0.04450429],\n",
       "       [0.06721706],\n",
       "       [0.13826093],\n",
       "       [0.11313869],\n",
       "       [0.16182411],\n",
       "       [0.13167033],\n",
       "       [0.134505  ],\n",
       "       [0.19569839],\n",
       "       [0.14187513],\n",
       "       [0.16643044],\n",
       "       [0.2234427 ],\n",
       "       [0.5024449 ],\n",
       "       [0.0659769 ],\n",
       "       [0.09074481],\n",
       "       [0.1390759 ],\n",
       "       [0.17316278],\n",
       "       [0.18783219],\n",
       "       [0.15991071],\n",
       "       [0.16635958],\n",
       "       [0.2137694 ],\n",
       "       [0.151513  ],\n",
       "       [0.19297002],\n",
       "       [0.24505705],\n",
       "       [0.54850826],\n",
       "       [0.08146127],\n",
       "       [0.11455602],\n",
       "       [0.18223372],\n",
       "       [0.19304089],\n",
       "       [0.22071434],\n",
       "       [0.18928495],\n",
       "       [0.19569839],\n",
       "       [0.24080505],\n",
       "       [0.19201332],\n",
       "       [0.21295443],\n",
       "       [0.27301396],\n",
       "       [0.61469775],\n",
       "       [0.08890227],\n",
       "       [0.14995394],\n",
       "       [0.20916306],\n",
       "       [0.2191907 ],\n",
       "       [0.24084048],\n",
       "       [0.2131316 ],\n",
       "       [0.19708029],\n",
       "       [0.27184466],\n",
       "       [0.22808447],\n",
       "       [0.22787187],\n",
       "       [0.30958118],\n",
       "       [0.635568  ],\n",
       "       [0.11062292],\n",
       "       [0.15987527],\n",
       "       [0.217171  ],\n",
       "       [0.22762384],\n",
       "       [0.24268301],\n",
       "       [0.2124938 ],\n",
       "       [0.20062363],\n",
       "       [0.2792148 ],\n",
       "       [0.18304869],\n",
       "       [0.22252144],\n",
       "       [0.29813621],\n",
       "       [0.62348522],\n",
       "       [0.12068599],\n",
       "       [0.16979661],\n",
       "       [0.24941535],\n",
       "       [0.22170647],\n",
       "       [0.25554532],\n",
       "       [0.22223797],\n",
       "       [0.21029693],\n",
       "       [0.28966764],\n",
       "       [0.19513146],\n",
       "       [0.25044292],\n",
       "       [0.31794345],\n",
       "       [0.65239884],\n",
       "       [0.13698533],\n",
       "       [0.16738714],\n",
       "       [0.23081284],\n",
       "       [0.23928141],\n",
       "       [0.27609666],\n",
       "       [0.23237191],\n",
       "       [0.24505705],\n",
       "       [0.30415988],\n",
       "       [0.23488768],\n",
       "       [0.27152576],\n",
       "       [0.34076253],\n",
       "       [0.70235986],\n",
       "       [0.17192261],\n",
       "       [0.22698604],\n",
       "       [0.27715966],\n",
       "       [0.2877188 ],\n",
       "       [0.29909291],\n",
       "       [0.25862802],\n",
       "       [0.27386436],\n",
       "       [0.30649848],\n",
       "       [0.25816739],\n",
       "       [0.30586068],\n",
       "       [0.36468004],\n",
       "       [0.76068315],\n",
       "       [0.18099355],\n",
       "       [0.24590745],\n",
       "       [0.31142371],\n",
       "       [0.31075048],\n",
       "       [0.32070725],\n",
       "       [0.30547091],\n",
       "       [0.29338814],\n",
       "       [0.34579406],\n",
       "       [0.28424633],\n",
       "       [0.33913259],\n",
       "       [0.40620792],\n",
       "       [0.82694352],\n",
       "       [0.2110056 ],\n",
       "       [0.26702572],\n",
       "       [0.33477429],\n",
       "       [0.3511445 ],\n",
       "       [0.36018   ],\n",
       "       [0.33899086],\n",
       "       [0.33084119],\n",
       "       [0.38601091],\n",
       "       [0.3482744 ],\n",
       "       [0.365495  ],\n",
       "       [0.44125151],\n",
       "       [0.86896747],\n",
       "       [0.24764368],\n",
       "       [0.28839203],\n",
       "       [0.39355822],\n",
       "       [0.35993197],\n",
       "       [0.40875912],\n",
       "       [0.3667706 ],\n",
       "       [0.35238466],\n",
       "       [0.42208206],\n",
       "       [0.34820353],\n",
       "       [0.37828644],\n",
       "       [0.48231876],\n",
       "       [0.83966409],\n",
       "       [0.25636029],\n",
       "       [0.31670328],\n",
       "       [0.38381405],\n",
       "       [0.36018   ],\n",
       "       [0.43037347],\n",
       "       [0.3567784 ],\n",
       "       [0.36960527],\n",
       "       [0.42884983],\n",
       "       [0.31691588],\n",
       "       [0.34930196],\n",
       "       [0.41875133],\n",
       "       [0.70115513],\n",
       "       [0.22850967],\n",
       "       [0.27446673],\n",
       "       [0.30561264],\n",
       "       [0.33303806],\n",
       "       [0.36588477],\n",
       "       [0.30104174],\n",
       "       [0.32134505],\n",
       "       [0.37977464],\n",
       "       [0.30798668],\n",
       "       [0.35840833],\n",
       "       [0.40372759],\n",
       "       [0.71539933],\n",
       "       [0.22245057],\n",
       "       [0.27914393],\n",
       "       [0.37034937],\n",
       "       [0.35801857],\n",
       "       [0.38229041],\n",
       "       [0.32598682],\n",
       "       [0.3509319 ],\n",
       "       [0.38923535],\n",
       "       [0.32931755],\n",
       "       [0.37112891],\n",
       "       [0.46293672],\n",
       "       [0.76560839],\n",
       "       [0.23970661],\n",
       "       [0.31865212],\n",
       "       [0.40089292],\n",
       "       [0.41488909],\n",
       "       [0.41928283],\n",
       "       [0.38427468],\n",
       "       [0.38973142],\n",
       "       [0.43671604],\n",
       "       [0.39192828],\n",
       "       [0.40099922],\n",
       "       [0.49674013],\n",
       "       [0.85642407],\n",
       "       [0.26291546],\n",
       "       [0.38951882],\n",
       "       [0.46857062],\n",
       "       [0.41325916],\n",
       "       [0.46112962],\n",
       "       [0.41736943],\n",
       "       [0.40138899],\n",
       "       [0.48940543],\n",
       "       [0.40581816],\n",
       "       [0.4219049 ],\n",
       "       [0.53426405],\n",
       "       [0.87045567],\n",
       "       [0.29161647],\n",
       "       [0.37066827],\n",
       "       [0.48377153],\n",
       "       [0.43441287],\n",
       "       [0.49121253],\n",
       "       [0.42590887],\n",
       "       [0.4342357 ],\n",
       "       [0.51870881],\n",
       "       [0.39639288],\n",
       "       [0.45825951],\n",
       "       [0.54985472],\n",
       "       [0.87431791],\n",
       "       [0.2930338 ],\n",
       "       [0.37573524],\n",
       "       [0.46665722],\n",
       "       [0.47565729],\n",
       "       [0.51987811],\n",
       "       [0.4270073 ],\n",
       "       [0.45811778],\n",
       "       [0.53490185],\n",
       "       [0.41584579],\n",
       "       [0.47172419],\n",
       "       [0.58780384],\n",
       "       [0.91340089],\n",
       "       [0.31447098],\n",
       "       [0.39369995],\n",
       "       [0.49068103],\n",
       "       [0.47824392],\n",
       "       [0.54089009],\n",
       "       [0.45333428],\n",
       "       [0.48540146],\n",
       "       [0.54772872],\n",
       "       [0.43501524],\n",
       "       [0.48890936],\n",
       "       [0.57295727],\n",
       "       [0.94022394],\n",
       "       [0.31085678],\n",
       "       [0.42590887],\n",
       "       [0.51594501],\n",
       "       [0.47842109],\n",
       "       [0.52281908],\n",
       "       [0.47027142],\n",
       "       [0.48827156],\n",
       "       [0.54950039],\n",
       "       [0.45836581],\n",
       "       [0.48412586],\n",
       "       [0.59655588],\n",
       "       [0.98582666],\n",
       "       [0.31808518],\n",
       "       [0.39313302],\n",
       "       [0.51059457],\n",
       "       [0.50400397],\n",
       "       [0.53238608],\n",
       "       [0.48515343],\n",
       "       [0.49124796],\n",
       "       [0.56112253],\n",
       "       [0.45932251],\n",
       "       [0.47891716],\n",
       "       [0.62352066],\n",
       "       [0.95460988],\n",
       "       [0.31213238],\n",
       "       [0.40557012],\n",
       "       [0.53915385],\n",
       "       [0.47735809],\n",
       "       [0.59003614],\n",
       "       [0.5080788 ],\n",
       "       [0.52069308],\n",
       "       [0.57079583],\n",
       "       [0.45347601],\n",
       "       [0.50333073],\n",
       "       [0.65122954],\n",
       "       [0.95811778],\n",
       "       [0.32609312],\n",
       "       [0.39054638],\n",
       "       [0.53532705],\n",
       "       [0.51491744],\n",
       "       [0.5717171 ],\n",
       "       [0.50194883],\n",
       "       [0.52427184],\n",
       "       [0.59854015],\n",
       "       [0.44688541],\n",
       "       [0.51201191],\n",
       "       [0.64414287],\n",
       "       [1.        ]])"
      ]
     },
     "execution_count": 11,
     "metadata": {},
     "output_type": "execute_result"
    }
   ],
   "source": [
    "#\n",
    "# Check if the data has been scaled properly\n",
    "#\n",
    "scaled_train"
   ]
  },
  {
   "cell_type": "code",
   "execution_count": 12,
   "metadata": {
    "id": "nkRDFTCnklBE",
    "scrolled": true
   },
   "outputs": [
    {
     "data": {
      "text/plain": [
       "array([[ 0.34724683],\n",
       "       [ 0.431153  ],\n",
       "       [ 0.1413082 ],\n",
       "       [-0.148324  ],\n",
       "       [ 0.06044929],\n",
       "       [ 0.32602225],\n",
       "       [ 0.37428247],\n",
       "       [ 0.41155836],\n",
       "       [ 0.40326695],\n",
       "       [ 0.44720431],\n",
       "       [ 0.48929913],\n",
       "       [ 0.85940047],\n",
       "       [ 0.29487634],\n",
       "       [ 0.31790802],\n",
       "       [ 0.58592587],\n",
       "       [ 0.56792573],\n",
       "       [ 0.66178868],\n",
       "       [ 0.61746155],\n",
       "       [ 0.63861526],\n",
       "       [ 0.63252073],\n",
       "       [ 0.54599249],\n",
       "       [ 0.60676068],\n",
       "       [ 0.75834455],\n",
       "       [ 1.12061512],\n",
       "       [ 0.38547941],\n",
       "       [ 0.46821629],\n",
       "       [ 0.65229254],\n",
       "       [ 0.65909574],\n",
       "       [ 0.69208419],\n",
       "       [ 0.62940259],\n",
       "       [ 0.63659556],\n",
       "       [ 0.67716675],\n",
       "       [ 0.59141804],\n",
       "       [ 0.63244986],\n",
       "       [ 0.76915173],\n",
       "       [ 1.16735171],\n",
       "       [ 0.44174757],\n",
       "       [ 0.49603146],\n",
       "       [ 0.63868613],\n",
       "       [ 0.62936716],\n",
       "       [ 0.69516689],\n",
       "       [ 0.6332294 ],\n",
       "       [ 0.6528949 ],\n",
       "       [ 0.71593083],\n",
       "       [ 0.59889448],\n",
       "       [ 0.62008362],\n",
       "       [ 0.78704557],\n",
       "       [ 1.21500957]])"
      ]
     },
     "execution_count": 12,
     "metadata": {},
     "output_type": "execute_result"
    }
   ],
   "source": [
    "scaled_test"
   ]
  },
  {
   "cell_type": "code",
   "execution_count": null,
   "metadata": {},
   "outputs": [],
   "source": []
  },
  {
   "cell_type": "markdown",
   "metadata": {
    "id": "TzvXEF_8klBE"
   },
   "source": [
    "# Time Series Generator\n",
    "\n",
    "This class takes in a sequence of data-points gathered at\n",
    "equal intervals, along with time series parameters such as\n",
    "stride, length of history, etc., to produce batches for\n",
    "training/validation.\n",
    "\n",
    "#### Arguments\n",
    "    data: Indexable generator (such as list or Numpy array)\n",
    "        containing consecutive data points (timesteps).\n",
    "        The data should be at 2D, and axis 0 is expected\n",
    "        to be the time dimension.\n",
    "    targets: Targets corresponding to timesteps in `data`.\n",
    "        It should have same length as `data`.\n",
    "    length: Length of the output sequences (in number of timesteps).\n",
    "    sampling_rate: Period between successive individual timesteps\n",
    "        within sequences. For rate `r`, timesteps\n",
    "        `data[i]`, `data[i-r]`, ... `data[i - length]`\n",
    "        are used for create a sample sequence.\n",
    "    stride: Period between successive output sequences.\n",
    "        For stride `s`, consecutive output samples would\n",
    "        be centered around `data[i]`, `data[i+s]`, `data[i+2*s]`, etc.\n",
    "    start_index: Data points earlier than `start_index` will not be used\n",
    "        in the output sequences. This is useful to reserve part of the\n",
    "        data for test or validation.\n",
    "    end_index: Data points later than `end_index` will not be used\n",
    "        in the output sequences. This is useful to reserve part of the\n",
    "        data for test or validation.\n",
    "    shuffle: Whether to shuffle output samples,\n",
    "        or instead draw them in chronological order.\n",
    "    reverse: Boolean: if `true`, timesteps in each output sample will be\n",
    "        in reverse chronological order.\n",
    "    batch_size: Number of timeseries samples in each batch\n",
    "        (except maybe the last one)."
   ]
  },
  {
   "cell_type": "markdown",
   "metadata": {
    "id": "7Ww3rFMDyeU6"
   },
   "source": [
    "# We will use 12 months as input and then predict the next month out\n"
   ]
  },
  {
   "cell_type": "code",
   "execution_count": 13,
   "metadata": {
    "id": "YWGudaCKklBF"
   },
   "outputs": [],
   "source": [
    "from tensorflow.keras.preprocessing.sequence import TimeseriesGenerator\n",
    "length = 12\n",
    "generator = TimeseriesGenerator(scaled_train, scaled_train, length=length, batch_size=1)"
   ]
  },
  {
   "cell_type": "code",
   "execution_count": 14,
   "metadata": {
    "id": "IFkYAa_ZklBF"
   },
   "outputs": [
    {
     "name": "stdout",
     "output_type": "stream",
     "text": [
      "Given the Array: \n",
      "[0.         0.02076394 0.05446106 0.08727234 0.09283538 0.07951244\n",
      " 0.0767132  0.12667423 0.09336688 0.11749699 0.1505563  0.40595989]\n",
      "Predict this y: \n",
      " [[0.01998441]]\n"
     ]
    }
   ],
   "source": [
    "X, y = generator[0]\n",
    "\n",
    "print(f'Given the Array: \\n{X.flatten()}')\n",
    "print(f'Predict this y: \\n {y}')"
   ]
  },
  {
   "cell_type": "markdown",
   "metadata": {
    "id": "i2JNn76vklBF"
   },
   "source": [
    "### Create the Model"
   ]
  },
  {
   "cell_type": "code",
   "execution_count": 15,
   "metadata": {
    "id": "B8EKHpwsklBF"
   },
   "outputs": [],
   "source": [
    "from tensorflow.keras.models import Sequential\n",
    "from tensorflow.keras.layers import Dense\n",
    "from tensorflow.keras.layers import LSTM\n",
    "from tensorflow.keras.layers import SimpleRNN\n",
    "from tensorflow.keras.layers import GRU\n",
    "\n",
    "import tensorflow as tf"
   ]
  },
  {
   "cell_type": "code",
   "execution_count": 16,
   "metadata": {
    "id": "4_e-ciXHklBF"
   },
   "outputs": [],
   "source": [
    "# We're only using one feature in our time series\n",
    "n_features = 1"
   ]
  },
  {
   "cell_type": "markdown",
   "metadata": {
    "id": "ZlstmafY1SJC"
   },
   "source": [
    "# Define your own models. \n",
    "\n",
    "Use 1. SimpleRNN, LSTM, or GRU neural network.\n",
    "\n",
    "APIs:\n",
    "https://keras.io/api/layers/recurrent_layers/"
   ]
  },
  {
   "cell_type": "code",
   "execution_count": 17,
   "metadata": {
    "id": "97CMSHdnklBF"
   },
   "outputs": [
    {
     "name": "stdout",
     "output_type": "stream",
     "text": [
      "WARNING:tensorflow:From C:\\ProgramData\\anaconda3\\lib\\site-packages\\keras\\src\\layers\\rnn\\lstm.py:148: The name tf.executing_eagerly_outside_functions is deprecated. Please use tf.compat.v1.executing_eagerly_outside_functions instead.\n",
      "\n"
     ]
    }
   ],
   "source": [
    "# \n",
    "# Your code to create your own model\n",
    "#\n",
    "model = Sequential([\n",
    "    LSTM(100, activation='relu', input_shape=(12,1)),\n",
    "    #GRU(4),\n",
    "    #keras.layers.Bidirectional(LSTM(10)),\n",
    "    Dense(1)\n",
    "])\n"
   ]
  },
  {
   "cell_type": "code",
   "execution_count": 18,
   "metadata": {
    "id": "uv4_LwBsklBF"
   },
   "outputs": [
    {
     "name": "stdout",
     "output_type": "stream",
     "text": [
      "Model: \"sequential\"\n",
      "_________________________________________________________________\n",
      " Layer (type)                Output Shape              Param #   \n",
      "=================================================================\n",
      " lstm (LSTM)                 (None, 100)               40800     \n",
      "                                                                 \n",
      " dense (Dense)               (None, 1)                 101       \n",
      "                                                                 \n",
      "=================================================================\n",
      "Total params: 40901 (159.77 KB)\n",
      "Trainable params: 40901 (159.77 KB)\n",
      "Non-trainable params: 0 (0.00 Byte)\n",
      "_________________________________________________________________\n"
     ]
    }
   ],
   "source": [
    "model.summary()"
   ]
  },
  {
   "cell_type": "code",
   "execution_count": 19,
   "metadata": {},
   "outputs": [
    {
     "name": "stdout",
     "output_type": "stream",
     "text": [
      "WARNING:tensorflow:From C:\\ProgramData\\anaconda3\\lib\\site-packages\\keras\\src\\optimizers\\__init__.py:309: The name tf.train.Optimizer is deprecated. Please use tf.compat.v1.train.Optimizer instead.\n",
      "\n"
     ]
    }
   ],
   "source": [
    "model.compile(optimizer='adam', loss='mse')"
   ]
  },
  {
   "cell_type": "markdown",
   "metadata": {
    "id": "FEySSjnXklBF"
   },
   "source": [
    "### EarlyStopping and creating a Validation Generator\n",
    "\n",
    "NOTE: The scaled_test dataset size MUST be greater than your length chosen for your batches. Review video for more info on this."
   ]
  },
  {
   "cell_type": "code",
   "execution_count": 20,
   "metadata": {
    "id": "ZSOF0UdQklBG"
   },
   "outputs": [],
   "source": [
    "validation_generator = TimeseriesGenerator(scaled_test, scaled_test, length=length, batch_size=1)\n",
    "train_generator = TimeseriesGenerator(scaled_train, scaled_train, length=length, batch_size=1)"
   ]
  },
  {
   "cell_type": "code",
   "execution_count": 47,
   "metadata": {
    "id": "DGXOa7vH2SGs"
   },
   "outputs": [],
   "source": [
    "from tensorflow.keras.callbacks import EarlyStopping\n",
    "\n",
    "# Your code to create an object early-stop.\n",
    "early_stop = EarlyStopping(monitor=\"val_loss\",patience=5)"
   ]
  },
  {
   "cell_type": "markdown",
   "metadata": {
    "id": "XGQ6FmGA2k3l"
   },
   "source": [
    "Now, fit your model."
   ]
  },
  {
   "cell_type": "code",
   "execution_count": 48,
   "metadata": {
    "id": "y3M9SdOWklBG",
    "scrolled": true
   },
   "outputs": [
    {
     "name": "stdout",
     "output_type": "stream",
     "text": [
      "Epoch 1/30\n",
      "372/372 [==============================] - 1s 2ms/step - loss: 0.0028 - val_loss: 0.0198\n",
      "Epoch 2/30\n",
      "372/372 [==============================] - 1s 2ms/step - loss: 0.0028 - val_loss: 0.0082\n",
      "Epoch 3/30\n",
      "372/372 [==============================] - 1s 2ms/step - loss: 0.0027 - val_loss: 0.0127\n",
      "Epoch 4/30\n",
      "372/372 [==============================] - 1s 2ms/step - loss: 0.0033 - val_loss: 0.0113\n",
      "Epoch 5/30\n",
      "372/372 [==============================] - 1s 2ms/step - loss: 0.0023 - val_loss: 0.0123\n",
      "Epoch 6/30\n",
      "372/372 [==============================] - 1s 2ms/step - loss: 0.0027 - val_loss: 0.0083\n",
      "Epoch 7/30\n",
      "372/372 [==============================] - 1s 2ms/step - loss: 0.0027 - val_loss: 0.0055\n",
      "Epoch 8/30\n",
      "372/372 [==============================] - 1s 2ms/step - loss: 0.0026 - val_loss: 0.0088\n",
      "Epoch 9/30\n",
      "372/372 [==============================] - 1s 2ms/step - loss: 0.0024 - val_loss: 0.0054\n",
      "Epoch 10/30\n",
      "372/372 [==============================] - 1s 2ms/step - loss: 0.0021 - val_loss: 0.0079\n",
      "Epoch 11/30\n",
      "372/372 [==============================] - 1s 2ms/step - loss: 0.0023 - val_loss: 0.0148\n",
      "Epoch 12/30\n",
      "372/372 [==============================] - 1s 2ms/step - loss: 0.0025 - val_loss: 0.0048\n",
      "Epoch 13/30\n",
      "372/372 [==============================] - 1s 2ms/step - loss: 0.0025 - val_loss: 0.0063\n",
      "Epoch 14/30\n",
      "372/372 [==============================] - 1s 2ms/step - loss: 0.0024 - val_loss: 0.0075\n",
      "Epoch 15/30\n",
      "372/372 [==============================] - 1s 2ms/step - loss: 0.0020 - val_loss: 0.0063\n",
      "Epoch 16/30\n",
      "372/372 [==============================] - 1s 2ms/step - loss: 0.0018 - val_loss: 0.0052\n",
      "Epoch 17/30\n",
      "372/372 [==============================] - 1s 2ms/step - loss: 0.0020 - val_loss: 0.0057\n"
     ]
    }
   ],
   "source": [
    "# Your code to fit your model.\n",
    "history = model.fit(generator, epochs = 30,validation_data = validation_generator, callbacks = [early_stop])"
   ]
  },
  {
   "cell_type": "code",
   "execution_count": 49,
   "metadata": {
    "id": "b_FT924EklBG"
   },
   "outputs": [
    {
     "data": {
      "text/plain": [
       "<Axes: >"
      ]
     },
     "execution_count": 49,
     "metadata": {},
     "output_type": "execute_result"
    },
    {
     "data": {
      "image/png": "[encoded data removed]",
      "text/plain": [
       "<Figure size 640x480 with 1 Axes>"
      ]
     },
     "metadata": {},
     "output_type": "display_data"
    }
   ],
   "source": [
    "# Get Losses from dataframe (hint - model.history.history)- See previous week tutorial.\n",
    "# Plot losses in the dataframe.\n",
    "losses =  pd.DataFrame(model.history.history)\n",
    "losses.plot()"
   ]
  },
  {
   "cell_type": "markdown",
   "metadata": {
    "id": "xLHR70OiklBG"
   },
   "source": [
    "## Evaluate on Test Data"
   ]
  },
  {
   "cell_type": "code",
   "execution_count": 50,
   "metadata": {
    "id": "pfBvM-PDklBG"
   },
   "outputs": [],
   "source": [
    "first_eval_batch = scaled_train[-length:]"
   ]
  },
  {
   "cell_type": "code",
   "execution_count": 51,
   "metadata": {
    "id": "ilrLhGP5klBG"
   },
   "outputs": [
    {
     "name": "stdout",
     "output_type": "stream",
     "text": [
      "1/1 [==============================] - 0s 17ms/step\n"
     ]
    },
    {
     "data": {
      "text/plain": [
       "array([[0.3442815]], dtype=float32)"
      ]
     },
     "execution_count": 51,
     "metadata": {},
     "output_type": "execute_result"
    }
   ],
   "source": [
    "n_input = 12\n",
    "first_eval_batch = first_eval_batch.reshape((1, n_input, n_features))\n",
    "model.predict(first_eval_batch)\n"
   ]
  },
  {
   "cell_type": "code",
   "execution_count": 52,
   "metadata": {},
   "outputs": [
    {
     "data": {
      "text/plain": [
       "array([0.34724683])"
      ]
     },
     "execution_count": 52,
     "metadata": {},
     "output_type": "execute_result"
    }
   ],
   "source": [
    "# compare with the true result:\n",
    "scaled_test[0]"
   ]
  },
  {
   "cell_type": "markdown",
   "metadata": {
    "id": "OKjgr2QtklBH"
   },
   "source": [
    "#### Try predicting the series!"
   ]
  },
  {
   "cell_type": "code",
   "execution_count": 53,
   "metadata": {
    "id": "cem82lC7klBH",
    "scrolled": true
   },
   "outputs": [
    {
     "name": "stdout",
     "output_type": "stream",
     "text": [
      "1/1 [==============================] - 0s 17ms/step\n",
      "1/1 [==============================] - 0s 17ms/step\n",
      "1/1 [==============================] - 0s 26ms/step\n",
      "1/1 [==============================] - 0s 14ms/step\n",
      "1/1 [==============================] - 0s 6ms/step\n",
      "1/1 [==============================] - 0s 8ms/step\n",
      "1/1 [==============================] - 0s 9ms/step\n",
      "1/1 [==============================] - 0s 12ms/step\n",
      "1/1 [==============================] - 0s 17ms/step\n",
      "1/1 [==============================] - 0s 13ms/step\n",
      "1/1 [==============================] - 0s 17ms/step\n",
      "1/1 [==============================] - 0s 24ms/step\n",
      "1/1 [==============================] - 0s 7ms/step\n",
      "1/1 [==============================] - 0s 8ms/step\n",
      "1/1 [==============================] - 0s 12ms/step\n",
      "1/1 [==============================] - 0s 13ms/step\n",
      "1/1 [==============================] - 0s 15ms/step\n",
      "1/1 [==============================] - 0s 16ms/step\n",
      "1/1 [==============================] - 0s 27ms/step\n",
      "1/1 [==============================] - 0s 25ms/step\n",
      "1/1 [==============================] - 0s 6ms/step\n",
      "1/1 [==============================] - 0s 7ms/step\n",
      "1/1 [==============================] - 0s 8ms/step\n",
      "1/1 [==============================] - 0s 11ms/step\n",
      "1/1 [==============================] - 0s 15ms/step\n",
      "1/1 [==============================] - 0s 16ms/step\n",
      "1/1 [==============================] - 0s 29ms/step\n",
      "1/1 [==============================] - 0s 26ms/step\n",
      "1/1 [==============================] - 0s 7ms/step\n",
      "1/1 [==============================] - 0s 17ms/step\n",
      "1/1 [==============================] - 0s 12ms/step\n",
      "1/1 [==============================] - 0s 17ms/step\n",
      "1/1 [==============================] - 0s 29ms/step\n",
      "1/1 [==============================] - 0s 6ms/step\n",
      "1/1 [==============================] - 0s 10ms/step\n",
      "1/1 [==============================] - 0s 12ms/step\n",
      "1/1 [==============================] - 0s 15ms/step\n",
      "1/1 [==============================] - 0s 30ms/step\n",
      "1/1 [==============================] - 0s 26ms/step\n",
      "1/1 [==============================] - 0s 16ms/step\n",
      "1/1 [==============================] - 0s 17ms/step\n",
      "1/1 [==============================] - 0s 12ms/step\n",
      "1/1 [==============================] - 0s 15ms/step\n",
      "1/1 [==============================] - 0s 30ms/step\n",
      "1/1 [==============================] - 0s 30ms/step\n",
      "1/1 [==============================] - 0s 28ms/step\n",
      "1/1 [==============================] - 0s 5ms/step\n",
      "1/1 [==============================] - 0s 9ms/step\n"
     ]
    }
   ],
   "source": [
    "test_predictions = []\n",
    "\n",
    "first_eval_batch = scaled_train[-length:]\n",
    "current_batch = first_eval_batch.reshape((1, length, n_features))\n",
    "\n",
    "for i in range(len(test)):\n",
    "    \n",
    "    # get prediction 1 time stamp ahead ([0] is for \n",
    "    # grabbing just the number instead of [array])\n",
    "    current_pred = model.predict(current_batch)[0]\n",
    "    \n",
    "    # store prediction\n",
    "    test_predictions.append(current_pred) \n",
    "    \n",
    "    # update batch to now include prediction and drop first value\n",
    "    current_batch = np.append(current_batch[:,1:,:],[[current_pred]],axis=1)"
   ]
  },
  {
   "cell_type": "markdown",
   "metadata": {
    "id": "z2400W3cklBH"
   },
   "source": [
    "## Inverse Transformations and Compare"
   ]
  },
  {
   "cell_type": "code",
   "execution_count": 54,
   "metadata": {
    "id": "8CTT2EJWklBH"
   },
   "outputs": [],
   "source": [
    "true_predictions = scaler.inverse_transform(test_predictions)"
   ]
  },
  {
   "cell_type": "code",
   "execution_count": 55,
   "metadata": {
    "id": "mkQkA0HXklBH"
   },
   "outputs": [
    {
     "name": "stderr",
     "output_type": "stream",
     "text": [
      "C:\\Users\\mam357\\AppData\\Local\\Temp\\ipykernel_13536\\1339453577.py:2: SettingWithCopyWarning: \n",
      "A value is trying to be set on a copy of a slice from a DataFrame.\n",
      "Try using .loc[row_indexer,col_indexer] = value instead\n",
      "\n",
      "See the caveats in the documentation: https://pandas.pydata.org/pandas-docs/stable/user_guide/indexing.html#returning-a-view-versus-a-copy\n",
      "  test['Predictions'] = true_predictions\n"
     ]
    }
   ],
   "source": [
    "# IGNORE WARNINGS\n",
    "test['Predictions'] = true_predictions"
   ]
  },
  {
   "cell_type": "markdown",
   "metadata": {
    "id": "xbrJUx7z3hQF"
   },
   "source": [
    "# Check and plot predictions"
   ]
  },
  {
   "cell_type": "code",
   "execution_count": 56,
   "metadata": {
    "id": "SovbmFX1klBH",
    "scrolled": true
   },
   "outputs": [
    {
     "data": {
      "text/html": [
       "<div>\n",
       "<style scoped>\n",
       "    .dataframe tbody tr th:only-of-type {\n",
       "        vertical-align: middle;\n",
       "    }\n",
       "\n",
       "    .dataframe tbody tr th {\n",
       "        vertical-align: top;\n",
       "    }\n",
       "\n",
       "    .dataframe thead th {\n",
       "        text-align: right;\n",
       "    }\n",
       "</style>\n",
       "<table border=\"1\" class=\"dataframe\">\n",
       "  <thead>\n",
       "    <tr style=\"text-align: right;\">\n",
       "      <th></th>\n",
       "      <th>Sales</th>\n",
       "      <th>Predictions</th>\n",
       "    </tr>\n",
       "    <tr>\n",
       "      <th>DATE</th>\n",
       "      <th></th>\n",
       "      <th></th>\n",
       "    </tr>\n",
       "  </thead>\n",
       "  <tbody>\n",
       "    <tr>\n",
       "      <th>2020-01-01</th>\n",
       "      <td>16738.0</td>\n",
       "      <td>16654.312341</td>\n",
       "    </tr>\n",
       "    <tr>\n",
       "      <th>2020-02-01</th>\n",
       "      <td>19106.0</td>\n",
       "      <td>18387.418911</td>\n",
       "    </tr>\n",
       "    <tr>\n",
       "      <th>2020-03-01</th>\n",
       "      <td>10926.0</td>\n",
       "      <td>21074.392240</td>\n",
       "    </tr>\n",
       "    <tr>\n",
       "      <th>2020-04-01</th>\n",
       "      <td>2752.0</td>\n",
       "      <td>21260.713581</td>\n",
       "    </tr>\n",
       "    <tr>\n",
       "      <th>2020-05-01</th>\n",
       "      <td>8644.0</td>\n",
       "      <td>22365.179283</td>\n",
       "    </tr>\n",
       "    <tr>\n",
       "      <th>2020-06-01</th>\n",
       "      <td>16139.0</td>\n",
       "      <td>21439.127077</td>\n",
       "    </tr>\n",
       "    <tr>\n",
       "      <th>2020-07-01</th>\n",
       "      <td>17501.0</td>\n",
       "      <td>21637.622227</td>\n",
       "    </tr>\n",
       "    <tr>\n",
       "      <th>2020-08-01</th>\n",
       "      <td>18553.0</td>\n",
       "      <td>23343.731774</td>\n",
       "    </tr>\n",
       "    <tr>\n",
       "      <th>2020-09-01</th>\n",
       "      <td>18319.0</td>\n",
       "      <td>21441.315570</td>\n",
       "    </tr>\n",
       "    <tr>\n",
       "      <th>2020-10-01</th>\n",
       "      <td>19559.0</td>\n",
       "      <td>21961.583133</td>\n",
       "    </tr>\n",
       "    <tr>\n",
       "      <th>2020-11-01</th>\n",
       "      <td>20747.0</td>\n",
       "      <td>25836.676094</td>\n",
       "    </tr>\n",
       "    <tr>\n",
       "      <th>2020-12-01</th>\n",
       "      <td>31192.0</td>\n",
       "      <td>34329.235559</td>\n",
       "    </tr>\n",
       "    <tr>\n",
       "      <th>2021-01-01</th>\n",
       "      <td>15260.0</td>\n",
       "      <td>16805.348646</td>\n",
       "    </tr>\n",
       "    <tr>\n",
       "      <th>2021-02-01</th>\n",
       "      <td>15910.0</td>\n",
       "      <td>18629.281045</td>\n",
       "    </tr>\n",
       "    <tr>\n",
       "      <th>2021-03-01</th>\n",
       "      <td>23474.0</td>\n",
       "      <td>20562.043456</td>\n",
       "    </tr>\n",
       "    <tr>\n",
       "      <th>2021-04-01</th>\n",
       "      <td>22966.0</td>\n",
       "      <td>20889.869130</td>\n",
       "    </tr>\n",
       "    <tr>\n",
       "      <th>2021-05-01</th>\n",
       "      <td>25615.0</td>\n",
       "      <td>21519.480605</td>\n",
       "    </tr>\n",
       "    <tr>\n",
       "      <th>2021-06-01</th>\n",
       "      <td>24364.0</td>\n",
       "      <td>21091.644496</td>\n",
       "    </tr>\n",
       "    <tr>\n",
       "      <th>2021-07-01</th>\n",
       "      <td>24961.0</td>\n",
       "      <td>21084.882204</td>\n",
       "    </tr>\n",
       "    <tr>\n",
       "      <th>2021-08-01</th>\n",
       "      <td>24789.0</td>\n",
       "      <td>22358.228588</td>\n",
       "    </tr>\n",
       "    <tr>\n",
       "      <th>2021-09-01</th>\n",
       "      <td>22347.0</td>\n",
       "      <td>21398.694624</td>\n",
       "    </tr>\n",
       "    <tr>\n",
       "      <th>2021-10-01</th>\n",
       "      <td>24062.0</td>\n",
       "      <td>21732.287591</td>\n",
       "    </tr>\n",
       "    <tr>\n",
       "      <th>2021-11-01</th>\n",
       "      <td>28340.0</td>\n",
       "      <td>25983.478397</td>\n",
       "    </tr>\n",
       "    <tr>\n",
       "      <th>2021-12-01</th>\n",
       "      <td>38564.0</td>\n",
       "      <td>33937.962929</td>\n",
       "    </tr>\n",
       "    <tr>\n",
       "      <th>2022-01-01</th>\n",
       "      <td>17817.0</td>\n",
       "      <td>16605.666731</td>\n",
       "    </tr>\n",
       "    <tr>\n",
       "      <th>2022-02-01</th>\n",
       "      <td>20152.0</td>\n",
       "      <td>18641.692880</td>\n",
       "    </tr>\n",
       "    <tr>\n",
       "      <th>2022-03-01</th>\n",
       "      <td>25347.0</td>\n",
       "      <td>20277.356835</td>\n",
       "    </tr>\n",
       "    <tr>\n",
       "      <th>2022-04-01</th>\n",
       "      <td>25539.0</td>\n",
       "      <td>20661.374298</td>\n",
       "    </tr>\n",
       "    <tr>\n",
       "      <th>2022-05-01</th>\n",
       "      <td>26470.0</td>\n",
       "      <td>20978.773930</td>\n",
       "    </tr>\n",
       "    <tr>\n",
       "      <th>2022-06-01</th>\n",
       "      <td>24701.0</td>\n",
       "      <td>20777.118839</td>\n",
       "    </tr>\n",
       "    <tr>\n",
       "      <th>2022-07-01</th>\n",
       "      <td>24904.0</td>\n",
       "      <td>20671.753240</td>\n",
       "    </tr>\n",
       "    <tr>\n",
       "      <th>2022-08-01</th>\n",
       "      <td>26049.0</td>\n",
       "      <td>21419.560165</td>\n",
       "    </tr>\n",
       "    <tr>\n",
       "      <th>2022-09-01</th>\n",
       "      <td>23629.0</td>\n",
       "      <td>20998.383737</td>\n",
       "    </tr>\n",
       "    <tr>\n",
       "      <th>2022-10-01</th>\n",
       "      <td>24787.0</td>\n",
       "      <td>21356.262081</td>\n",
       "    </tr>\n",
       "    <tr>\n",
       "      <th>2022-11-01</th>\n",
       "      <td>28645.0</td>\n",
       "      <td>25923.504265</td>\n",
       "    </tr>\n",
       "    <tr>\n",
       "      <th>2022-12-01</th>\n",
       "      <td>39883.0</td>\n",
       "      <td>33605.199268</td>\n",
       "    </tr>\n",
       "    <tr>\n",
       "      <th>2023-01-01</th>\n",
       "      <td>19405.0</td>\n",
       "      <td>16255.787910</td>\n",
       "    </tr>\n",
       "    <tr>\n",
       "      <th>2023-02-01</th>\n",
       "      <td>20937.0</td>\n",
       "      <td>18503.562965</td>\n",
       "    </tr>\n",
       "    <tr>\n",
       "      <th>2023-03-01</th>\n",
       "      <td>24963.0</td>\n",
       "      <td>20045.443849</td>\n",
       "    </tr>\n",
       "    <tr>\n",
       "      <th>2023-04-01</th>\n",
       "      <td>24700.0</td>\n",
       "      <td>20480.988467</td>\n",
       "    </tr>\n",
       "    <tr>\n",
       "      <th>2023-05-01</th>\n",
       "      <td>26557.0</td>\n",
       "      <td>20642.474364</td>\n",
       "    </tr>\n",
       "    <tr>\n",
       "      <th>2023-06-01</th>\n",
       "      <td>24809.0</td>\n",
       "      <td>20550.981557</td>\n",
       "    </tr>\n",
       "    <tr>\n",
       "      <th>2023-07-01</th>\n",
       "      <td>25364.0</td>\n",
       "      <td>20427.000309</td>\n",
       "    </tr>\n",
       "    <tr>\n",
       "      <th>2023-08-01</th>\n",
       "      <td>27143.0</td>\n",
       "      <td>20753.466796</td>\n",
       "    </tr>\n",
       "    <tr>\n",
       "      <th>2023-09-01</th>\n",
       "      <td>23840.0</td>\n",
       "      <td>20592.330788</td>\n",
       "    </tr>\n",
       "    <tr>\n",
       "      <th>2023-10-01</th>\n",
       "      <td>24438.0</td>\n",
       "      <td>21029.358232</td>\n",
       "    </tr>\n",
       "    <tr>\n",
       "      <th>2023-11-01</th>\n",
       "      <td>29150.0</td>\n",
       "      <td>25770.370303</td>\n",
       "    </tr>\n",
       "    <tr>\n",
       "      <th>2023-12-01</th>\n",
       "      <td>41228.0</td>\n",
       "      <td>33298.406511</td>\n",
       "    </tr>\n",
       "  </tbody>\n",
       "</table>\n",
       "</div>"
      ],
      "text/plain": [
       "              Sales   Predictions\n",
       "DATE                             \n",
       "2020-01-01  16738.0  16654.312341\n",
       "2020-02-01  19106.0  18387.418911\n",
       "2020-03-01  10926.0  21074.392240\n",
       "2020-04-01   2752.0  21260.713581\n",
       "2020-05-01   8644.0  22365.179283\n",
       "2020-06-01  16139.0  21439.127077\n",
       "2020-07-01  17501.0  21637.622227\n",
       "2020-08-01  18553.0  23343.731774\n",
       "2020-09-01  18319.0  21441.315570\n",
       "2020-10-01  19559.0  21961.583133\n",
       "2020-11-01  20747.0  25836.676094\n",
       "2020-12-01  31192.0  34329.235559\n",
       "2021-01-01  15260.0  16805.348646\n",
       "2021-02-01  15910.0  18629.281045\n",
       "2021-03-01  23474.0  20562.043456\n",
       "2021-04-01  22966.0  20889.869130\n",
       "2021-05-01  25615.0  21519.480605\n",
       "2021-06-01  24364.0  21091.644496\n",
       "2021-07-01  24961.0  21084.882204\n",
       "2021-08-01  24789.0  22358.228588\n",
       "2021-09-01  22347.0  21398.694624\n",
       "2021-10-01  24062.0  21732.287591\n",
       "2021-11-01  28340.0  25983.478397\n",
       "2021-12-01  38564.0  33937.962929\n",
       "2022-01-01  17817.0  16605.666731\n",
       "2022-02-01  20152.0  18641.692880\n",
       "2022-03-01  25347.0  20277.356835\n",
       "2022-04-01  25539.0  20661.374298\n",
       "2022-05-01  26470.0  20978.773930\n",
       "2022-06-01  24701.0  20777.118839\n",
       "2022-07-01  24904.0  20671.753240\n",
       "2022-08-01  26049.0  21419.560165\n",
       "2022-09-01  23629.0  20998.383737\n",
       "2022-10-01  24787.0  21356.262081\n",
       "2022-11-01  28645.0  25923.504265\n",
       "2022-12-01  39883.0  33605.199268\n",
       "2023-01-01  19405.0  16255.787910\n",
       "2023-02-01  20937.0  18503.562965\n",
       "2023-03-01  24963.0  20045.443849\n",
       "2023-04-01  24700.0  20480.988467\n",
       "2023-05-01  26557.0  20642.474364\n",
       "2023-06-01  24809.0  20550.981557\n",
       "2023-07-01  25364.0  20427.000309\n",
       "2023-08-01  27143.0  20753.466796\n",
       "2023-09-01  23840.0  20592.330788\n",
       "2023-10-01  24438.0  21029.358232\n",
       "2023-11-01  29150.0  25770.370303\n",
       "2023-12-01  41228.0  33298.406511"
      ]
     },
     "execution_count": 56,
     "metadata": {},
     "output_type": "execute_result"
    }
   ],
   "source": [
    "# Print the test variable.\n",
    "test"
   ]
  },
  {
   "cell_type": "code",
   "execution_count": 57,
   "metadata": {
    "id": "GI2daeyCklBH"
   },
   "outputs": [
    {
     "data": {
      "text/plain": [
       "[<matplotlib.lines.Line2D at 0x229ffe2bd90>,\n",
       " <matplotlib.lines.Line2D at 0x229ffe5aaa0>]"
      ]
     },
     "execution_count": 57,
     "metadata": {},
     "output_type": "execute_result"
    },
    {
     "data": {
      "image/png": "[encoded data removed]",
      "text/plain": [
       "<Figure size 640x480 with 1 Axes>"
      ]
     },
     "metadata": {},
     "output_type": "display_data"
    }
   ],
   "source": [
    "# Your code to plot actual sales and predictions.\n",
    "plt.plot(test)"
   ]
  },
  {
   "cell_type": "markdown",
   "metadata": {
    "collapsed": true,
    "id": "m-G9Sj8QklBH"
   },
   "source": [
    "# Retrain and Forecasting"
   ]
  },
  {
   "cell_type": "code",
   "execution_count": 36,
   "metadata": {
    "id": "x_LWNZcsklBH"
   },
   "outputs": [],
   "source": [
    "full_scaler = MinMaxScaler()\n",
    "scaled_full_data = full_scaler.fit_transform(df)"
   ]
  },
  {
   "cell_type": "code",
   "execution_count": 37,
   "metadata": {
    "id": "_Bv8HMGUklBH"
   },
   "outputs": [],
   "source": [
    "length = 12 # Length of the output sequences (in number of timesteps)\n",
    "generator = TimeseriesGenerator(scaled_full_data, \n",
    "                                scaled_full_data, length=length, batch_size=1)"
   ]
  },
  {
   "cell_type": "code",
   "execution_count": null,
   "metadata": {
    "id": "rur4U6DqklBH"
   },
   "outputs": [],
   "source": [
    "#\n",
    "# Use any neural network model based on RNN\n",
    "#\n",
    "# Create the model\n"
   ]
  },
  {
   "cell_type": "code",
   "execution_count": null,
   "metadata": {},
   "outputs": [],
   "source": [
    "# compile the model"
   ]
  },
  {
   "cell_type": "code",
   "execution_count": null,
   "metadata": {},
   "outputs": [],
   "source": [
    "# use early_stop"
   ]
  },
  {
   "cell_type": "code",
   "execution_count": null,
   "metadata": {},
   "outputs": [],
   "source": [
    "# fit the model"
   ]
  },
  {
   "cell_type": "code",
   "execution_count": null,
   "metadata": {
    "id": "sLRI3xk6klBH"
   },
   "outputs": [],
   "source": [
    "forecast = []\n",
    "# Replace periods with whatever forecast length you want\n",
    "periods = 12\n",
    "\n",
    "first_eval_batch = scaled_full_data[-length:]\n",
    "current_batch = first_eval_batch.reshape((1, length, n_features))\n",
    "\n",
    "for i in range(periods):\n",
    "    \n",
    "    # get prediction 1 time stamp ahead ([0] is for  grabbing just the number instead of [array])\n",
    "    \n",
    "    \n",
    "    # store prediction forecast.append(current_pred) \n",
    "    \n",
    "    # update batch to now include prediction and drop first value\n"
   ]
  },
  {
   "cell_type": "code",
   "execution_count": null,
   "metadata": {
    "id": "NrOvllWLklBI"
   },
   "outputs": [],
   "source": [
    "forecast = scaler.inverse_transform(forecast)"
   ]
  },
  {
   "cell_type": "markdown",
   "metadata": {
    "id": "SX2a204lklBI"
   },
   "source": [
    "### Creating new timestamp index with pandas."
   ]
  },
  {
   "cell_type": "code",
   "execution_count": null,
   "metadata": {
    "id": "TKFbxg4nklBI"
   },
   "outputs": [],
   "source": [
    "df"
   ]
  },
  {
   "cell_type": "code",
   "execution_count": null,
   "metadata": {
    "id": "uXqTleSCklBI"
   },
   "outputs": [],
   "source": [
    "forecast_index = pd.date_range(start='2024-01-01',periods=periods,freq='MS')"
   ]
  },
  {
   "cell_type": "code",
   "execution_count": null,
   "metadata": {
    "id": "0M8HAJ2BklBI"
   },
   "outputs": [],
   "source": [
    "forecast_df = pd.DataFrame(data=forecast,index=forecast_index,\n",
    "                           columns=['Forecast'])"
   ]
  },
  {
   "cell_type": "code",
   "execution_count": null,
   "metadata": {
    "id": "FgbJpcIAklBI"
   },
   "outputs": [],
   "source": [
    "forecast_df"
   ]
  },
  {
   "cell_type": "code",
   "execution_count": null,
   "metadata": {
    "id": "VXkkIIBjklBI"
   },
   "outputs": [],
   "source": [
    "# Plot sales - Values in dataframe"
   ]
  },
  {
   "cell_type": "code",
   "execution_count": null,
   "metadata": {
    "id": "9wVB2DQM5ovH"
   },
   "outputs": [],
   "source": [
    "# Plot forecast - Values in forecast_df"
   ]
  },
  {
   "cell_type": "markdown",
   "metadata": {
    "id": "PjgZ7bnMklBI"
   },
   "source": [
    "### Joining pandas plots\n",
    "\n",
    "https://stackoverflow.com/questions/13872533/plot-different-dataframes-in-the-same-figure"
   ]
  },
  {
   "cell_type": "code",
   "execution_count": null,
   "metadata": {
    "id": "SimiIvlQklBI",
    "outputId": "3b363ed7-3bf7-4bc9-8131-25e35dd754a6"
   },
   "outputs": [
    {
     "data": {
      "text/plain": [
       "<matplotlib.axes._subplots.AxesSubplot at 0x14e36d9b0>"
      ]
     },
     "execution_count": 81,
     "metadata": {},
     "output_type": "execute_result"
    },
    {
     "data": {
      "image/png": "[encoded data removed]",
      "text/plain": [
       "<Figure size 432x288 with 1 Axes>"
      ]
     },
     "metadata": {
      "needs_background": "light"
     },
     "output_type": "display_data"
    }
   ],
   "source": [
    "ax = df.plot()\n",
    "forecast_df.plot(ax=ax)"
   ]
  },
  {
   "cell_type": "code",
   "execution_count": null,
   "metadata": {
    "id": "NPJKP6sMklBI",
    "outputId": "a9ca203b-d289-47e2-9532-a077148ebd0b"
   },
   "outputs": [
    {
     "data": {
      "text/plain": [
       "(576, 612)"
      ]
     },
     "execution_count": 82,
     "metadata": {},
     "output_type": "execute_result"
    },
    {
     "data": {
      "image/png": "[encoded data removed]",
      "text/plain": [
       "<Figure size 432x288 with 1 Axes>"
      ]
     },
     "metadata": {
      "needs_background": "light"
     },
     "output_type": "display_data"
    }
   ],
   "source": [
    "ax = df.plot()\n",
    "forecast_df.plot(ax=ax)\n",
    "plt.xlim('2022-01-01','2025-01-01')"
   ]
  },
  {
   "cell_type": "markdown",
   "metadata": {
    "id": "6UncpiS4klBI"
   },
   "source": [
    "# Try the same example with a LSTM and GRU! \n",
    "Hint: Use LSTM instead of SimpleRNN!"
   ]
  }
 ],
 "metadata": {
  "colab": {
   "provenance": []
  },
  "kernelspec": {
   "display_name": "Python 3 (ipykernel)",
   "language": "python",
   "name": "python3"
  },
  "language_info": {
   "codemirror_mode": {
    "name": "ipython",
    "version": 3
   },
   "file_extension": ".py",
   "mimetype": "text/x-python",
   "name": "python",
   "nbconvert_exporter": "python",
   "pygments_lexer": "ipython3",
   "version": "3.11.4"
  }
 },
 "nbformat": 4,
 "nbformat_minor": 1
}
